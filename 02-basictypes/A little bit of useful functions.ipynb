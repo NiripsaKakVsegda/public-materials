{
 "cells": [
  {
   "cell_type": "markdown",
   "id": "generic-chrome",
   "metadata": {},
   "source": [
    "### 1. enumerate/min/max/sum"
   ]
  },
  {
   "cell_type": "code",
   "execution_count": null,
   "id": "breathing-command",
   "metadata": {},
   "outputs": [],
   "source": [
    "# enumerate\n",
    "for i, el in enumerate(['a', 'b', 'c']):\n",
    "    print(f'{i + 1}. {el}')"
   ]
  },
  {
   "cell_type": "code",
   "execution_count": null,
   "id": "historical-lebanon",
   "metadata": {},
   "outputs": [],
   "source": [
    "# max/min/sum\n",
    "a = [4,5,6,1,3,8]\n",
    "print(max(a), min(a), sum(a))"
   ]
  },
  {
   "cell_type": "code",
   "execution_count": null,
   "id": "enclosed-wisconsin",
   "metadata": {},
   "outputs": [],
   "source": [
    "users = [\n",
    "    {'login': 'anya', 'score': 150},\n",
    "    {'login': 'Petyaa', 'score': 20},\n",
    "    {'login': 'dog', 'score': 111},\n",
    "]\n",
    "max(users, key=lambda u: u[\"score\"])"
   ]
  },
  {
   "cell_type": "markdown",
   "id": "incredible-butter",
   "metadata": {},
   "source": [
    "### 2. Сортировка"
   ]
  },
  {
   "cell_type": "code",
   "execution_count": null,
   "id": "sonic-grade",
   "metadata": {},
   "outputs": [],
   "source": [
    "# sort/sorted\n",
    "a = [5,4,10,3,2]\n",
    "b = sorted(a) # создаёт новый список\n",
    "a.sort() # изменяет существующий список\n",
    "a.sort(key=lambda x: x % 10, reverse=True)\n",
    "print(a)"
   ]
  },
  {
   "cell_type": "code",
   "execution_count": null,
   "id": "behavioral-rehabilitation",
   "metadata": {},
   "outputs": [],
   "source": [
    "# Сортировка у списков стабильная, см. https://docs.python.org/3/library/stdtypes.html#mutable-sequence-types\n",
    "old_list = list(a)\n",
    "for i in range(100):\n",
    "    a.sort(key=lambda x: 1) # делаем все элементы одинаковыми при сравнении\n",
    "    assert a == old_list\n",
    "\n",
    "# Мало кто держит в голове все ньюансы стандартной библиотеки, и спустя некоторое время понять почему код,\n",
    "# опирающийся на это работает... может быть проблематично"
   ]
  },
  {
   "cell_type": "markdown",
   "id": "fleet-brunswick",
   "metadata": {},
   "source": [
    "### 3. Файлы"
   ]
  },
  {
   "cell_type": "code",
   "execution_count": null,
   "id": "controversial-switzerland",
   "metadata": {},
   "outputs": [],
   "source": [
    "# открытие текстовых файлов на запись\n",
    "f = open('my_file.txt', 'w')\n",
    "f.write('Straße strasse')\n",
    "f.close()"
   ]
  },
  {
   "cell_type": "code",
   "execution_count": null,
   "id": "fifty-norwegian",
   "metadata": {},
   "outputs": [],
   "source": [
    "# на чтение и так, чтобы не думать о закрытии файла\n",
    "with open('my_file.txt', encoding='utf-8', errors='ignore') as f:\n",
    "    print(f.read())"
   ]
  },
  {
   "cell_type": "code",
   "execution_count": null,
   "id": "duplicate-making",
   "metadata": {},
   "outputs": [],
   "source": [
    "# Почитать про возможные варианты обработки ошибок\n",
    "import codecs\n",
    "help(codecs.Codec)"
   ]
  },
  {
   "cell_type": "markdown",
   "id": "confident-commerce",
   "metadata": {},
   "source": [
    "### 4. casefold vs lower"
   ]
  },
  {
   "cell_type": "code",
   "execution_count": null,
   "id": "subject-sport",
   "metadata": {},
   "outputs": [],
   "source": [
    "'Straße strasse'.lower()"
   ]
  },
  {
   "cell_type": "code",
   "execution_count": null,
   "id": "forty-statement",
   "metadata": {},
   "outputs": [],
   "source": [
    "'Straße strasse'.casefold() # Return a version of the string suitable for caseless comparisons"
   ]
  },
  {
   "cell_type": "markdown",
   "id": "organic-password",
   "metadata": {},
   "source": [
    "### 5. Полезности из стандартной библиотеки"
   ]
  },
  {
   "cell_type": "code",
   "execution_count": null,
   "id": "rubber-paste",
   "metadata": {},
   "outputs": [],
   "source": [
    "from collections import defaultdict, Counter"
   ]
  }
 ],
 "metadata": {
  "kernelspec": {
   "display_name": "Python 3",
   "language": "python",
   "name": "python3"
  },
  "language_info": {
   "codemirror_mode": {
    "name": "ipython",
    "version": 3
   },
   "file_extension": ".py",
   "mimetype": "text/x-python",
   "name": "python",
   "nbconvert_exporter": "python",
   "pygments_lexer": "ipython3",
   "version": "3.8.5"
  }
 },
 "nbformat": 4,
 "nbformat_minor": 5
}
